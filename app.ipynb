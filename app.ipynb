{
  "cells": [
    {
      "cell_type": "markdown",
      "metadata": {
        "id": "view-in-github",
        "colab_type": "text"
      },
      "source": [
        "<a href=\"https://colab.research.google.com/github/geogredeng/JIAJIE-DENG/blob/master/app.ipynb\" target=\"_parent\"><img src=\"https://colab.research.google.com/assets/colab-badge.svg\" alt=\"Open In Colab\"/></a>"
      ]
    },
    {
      "cell_type": "code",
      "execution_count": null,
      "metadata": {
        "id": "Dyn0PFmJR7Ly"
      },
      "outputs": [],
      "source": [
        "!pip install vanna\n",
        "import vanna\n",
        "from vanna.remote import VannaDefault\n",
        "vn = VannaDefault(model='chinook', api_key=vanna.get_api_key('my-email@example.com'))\n",
        "vn.connect_to_sqlite('https://vanna.ai/Chinook.sqlite')\n",
        "vn.ask(\"What are the top 10 albums by sales?\")"
      ]
    },
    {
      "cell_type": "code",
      "execution_count": null,
      "metadata": {
        "id": "HXHJxxRoR7Lz",
        "outputId": "7a158685-ddae-457d-e7b1-52aacc446427",
        "colab": {
          "base_uri": "https://localhost:8080/",
          "height": 1000
        }
      },
      "outputs": [
        {
          "output_type": "stream",
          "name": "stdout",
          "text": [
            "Google Colab doesn't support running websocket servers. Disabling debug mode.\n",
            "\u001b[31mWarning: This function may stop working due to changes in browser security.\n",
            "Try `serve_kernel_port_as_iframe` instead. \u001b[0m\n"
          ]
        },
        {
          "output_type": "display_data",
          "data": {
            "text/plain": [
              "<IPython.core.display.Javascript object>"
            ],
            "application/javascript": [
              "(async (port, path, text, element) => {\n",
              "    if (!google.colab.kernel.accessAllowed) {\n",
              "      return;\n",
              "    }\n",
              "    element.appendChild(document.createTextNode(''));\n",
              "    const url = await google.colab.kernel.proxyPort(port);\n",
              "    const anchor = document.createElement('a');\n",
              "    anchor.href = new URL(path, url).toString();\n",
              "    anchor.target = '_blank';\n",
              "    anchor.setAttribute('data-href', url + path);\n",
              "    anchor.textContent = text;\n",
              "    element.appendChild(anchor);\n",
              "  })(8084, \"/\", \"https://localhost:8084/\", window.element)"
            ]
          },
          "metadata": {}
        },
        {
          "output_type": "stream",
          "name": "stdout",
          "text": [
            "Your app is running at:\n",
            "https://weq6jcpz0mr-496ff2e9c6d22116-8084-colab.googleusercontent.com/\n",
            " * Serving Flask app 'vanna.flask'\n",
            " * Debug mode: off\n"
          ]
        },
        {
          "output_type": "stream",
          "name": "stderr",
          "text": [
            "ERROR:vanna.flask:Exception on /api/v0/get_all_functions [GET]\n",
            "Traceback (most recent call last):\n",
            "  File \"/usr/local/lib/python3.11/dist-packages/flask/app.py\", line 1511, in wsgi_app\n",
            "    response = self.full_dispatch_request()\n",
            "               ^^^^^^^^^^^^^^^^^^^^^^^^^^^^\n",
            "  File \"/usr/local/lib/python3.11/dist-packages/flask/app.py\", line 919, in full_dispatch_request\n",
            "    rv = self.handle_user_exception(e)\n",
            "         ^^^^^^^^^^^^^^^^^^^^^^^^^^^^^\n",
            "  File \"/usr/local/lib/python3.11/dist-packages/flask/app.py\", line 917, in full_dispatch_request\n",
            "    rv = self.dispatch_request()\n",
            "         ^^^^^^^^^^^^^^^^^^^^^^^\n",
            "  File \"/usr/local/lib/python3.11/dist-packages/flask/app.py\", line 902, in dispatch_request\n",
            "    return self.ensure_sync(self.view_functions[rule.endpoint])(**view_args)  # type: ignore[no-any-return]\n",
            "           ^^^^^^^^^^^^^^^^^^^^^^^^^^^^^^^^^^^^^^^^^^^^^^^^^^^^^^^^^^^^^^^^^\n",
            "  File \"/usr/local/lib/python3.11/dist-packages/vanna/flask/__init__.py\", line 138, in decorated\n",
            "    return f(*args, user=user, **kwargs)\n",
            "           ^^^^^^^^^^^^^^^^^^^^^^^^^^^^^\n",
            "  File \"/usr/local/lib/python3.11/dist-packages/vanna/flask/__init__.py\", line 462, in get_all_functions\n",
            "    functions = vn.get_all_functions()\n",
            "                ^^^^^^^^^^^^^^^^^^^^^^\n",
            "  File \"/usr/local/lib/python3.11/dist-packages/vanna/vannadb/vannadb_vector.py\", line 90, in get_all_functions\n",
            "    if response.status_code == 200 and 'data' in response_json and 'get_all_sql_functions' in response_json['data']:\n",
            "                                                                   ^^^^^^^^^^^^^^^^^^^^^^^^^^^^^^^^^^^^^^^^^^^^^^^^\n",
            "TypeError: argument of type 'NoneType' is not iterable\n"
          ]
        },
        {
          "output_type": "stream",
          "name": "stdout",
          "text": [
            "Info: None\n",
            "None\n",
            "SQL Prompt: [{'role': 'system', 'content': \"You are a SQLite expert. Please help to generate a SQL query to answer the question. Your response should ONLY be based on the given context and follow the response guidelines and format instructions. \\n===Tables \\nCREATE TABLE [Employee]\\n(\\n    [EmployeeId] INTEGER  NOT NULL,\\n    [LastName] NVARCHAR(20)  NOT NULL,\\n    [FirstName] NVARCHAR(20)  NOT NULL,\\n    [Title] NVARCHAR(30),\\n    [ReportsTo] INTEGER,\\n    [BirthDate] DATETIME,\\n    [HireDate] DATETIME,\\n    [Address] NVARCHAR(70),\\n    [City] NVARCHAR(40),\\n    [State] NVARCHAR(40),\\n    [Country] NVARCHAR(40),\\n    [PostalCode] NVARCHAR(10),\\n    [Phone] NVARCHAR(24),\\n    [Fax] NVARCHAR(24),\\n    [Email] NVARCHAR(60),\\n    CONSTRAINT [PK_Employee] PRIMARY KEY  ([EmployeeId]),\\n    FOREIGN KEY ([ReportsTo]) REFERENCES [Employee] ([EmployeeId]) \\n\\t\\tON DELETE NO ACTION ON UPDATE NO ACTION\\n)\\n\\nCREATE TABLE [Customer]\\n(\\n    [CustomerId] INTEGER  NOT NULL,\\n    [FirstName] NVARCHAR(40)  NOT NULL,\\n    [LastName] NVARCHAR(20)  NOT NULL,\\n    [Company] NVARCHAR(80),\\n    [Address] NVARCHAR(70),\\n    [City] NVARCHAR(40),\\n    [State] NVARCHAR(40),\\n    [Country] NVARCHAR(40),\\n    [PostalCode] NVARCHAR(10),\\n    [Phone] NVARCHAR(24),\\n    [Fax] NVARCHAR(24),\\n    [Email] NVARCHAR(60)  NOT NULL,\\n    [SupportRepId] INTEGER,\\n    CONSTRAINT [PK_Customer] PRIMARY KEY  ([CustomerId]),\\n    FOREIGN KEY ([SupportRepId]) REFERENCES [Employee] ([EmployeeId]) \\n\\t\\tON DELETE NO ACTION ON UPDATE NO ACTION\\n)\\n\\nCREATE INDEX [IFK_EmployeeReportsTo] ON [Employee] ([ReportsTo])\\n\\nCREATE INDEX [IFK_InvoiceCustomerId] ON [Invoice] ([CustomerId])\\n\\nCREATE TABLE [Album]\\n(\\n    [AlbumId] INTEGER  NOT NULL,\\n    [Title] NVARCHAR(160)  NOT NULL,\\n    [ArtistId] INTEGER  NOT NULL,\\n    CONSTRAINT [PK_Album] PRIMARY KEY  ([AlbumId]),\\n    FOREIGN KEY ([ArtistId]) REFERENCES [Artist] ([ArtistId]) \\n\\t\\tON DELETE NO ACTION ON UPDATE NO ACTION\\n)\\n\\nCREATE TABLE [Invoice]\\n(\\n    [InvoiceId] INTEGER  NOT NULL,\\n    [CustomerId] INTEGER  NOT NULL,\\n    [InvoiceDate] DATETIME  NOT NULL,\\n    [BillingAddress] NVARCHAR(70),\\n    [BillingCity] NVARCHAR(40),\\n    [BillingState] NVARCHAR(40),\\n    [BillingCountry] NVARCHAR(40),\\n    [BillingPostalCode] NVARCHAR(10),\\n    [Total] NUMERIC(10,2)  NOT NULL,\\n    CONSTRAINT [PK_Invoice] PRIMARY KEY  ([InvoiceId]),\\n    FOREIGN KEY ([CustomerId]) REFERENCES [Customer] ([CustomerId]) \\n\\t\\tON DELETE NO ACTION ON UPDATE NO ACTION\\n)\\n\\nCREATE TABLE [Artist]\\n(\\n    [ArtistId] INTEGER  NOT NULL,\\n    [Name] NVARCHAR(120),\\n    CONSTRAINT [PK_Artist] PRIMARY KEY  ([ArtistId])\\n)\\n\\nCREATE INDEX [IFK_PlaylistTrackTrackId] ON [PlaylistTrack] ([TrackId])\\n\\nCREATE INDEX [IFK_CustomerSupportRepId] ON [Customer] ([SupportRepId])\\n\\nCREATE TABLE [Playlist]\\n(\\n    [PlaylistId] INTEGER  NOT NULL,\\n    [Name] NVARCHAR(120),\\n    CONSTRAINT [PK_Playlist] PRIMARY KEY  ([PlaylistId])\\n)\\n\\n\\n===Additional Context \\n\\nThis is a SQLite database. For dates rememeber to use SQLite syntax.\\n\\n===Response Guidelines \\n1. If the provided context is sufficient, please generate a valid SQL query without any explanations for the question. \\n2. If the provided context is almost sufficient but requires knowledge of a specific string in a particular column, please generate an intermediate SQL query to find the distinct strings in that column. Prepend the query with a comment saying intermediate_sql \\n3. If the provided context is insufficient, please explain why it can't be generated. \\n4. Please use the most relevant table(s). \\n5. If the question has been asked and answered before, please repeat the answer exactly as it was given before. \\n6. Ensure that the output SQL is SQLite-compliant and executable, and free of syntax errors. \\n\"}, {'role': 'user', 'content': 'Whath are the top 10 artists.'}, {'role': 'assistant', 'content': 'SELECT *\\nFROM Artist\\nORDER BY ArtistId\\nLIMIT 10;'}, {'role': 'user', 'content': 'Whath are the top 10 artts.'}, {'role': 'assistant', 'content': 'SELECT *\\nFROM Artist\\nORDER BY ArtistId\\nLIMIT 10;'}, {'role': 'user', 'content': 'what is the top 10 record for items table'}, {'role': 'assistant', 'content': 'SELECT *\\nFROM items\\nORDER BY item_id\\nLIMIT 10;'}, {'role': 'user', 'content': 'top ten records from items table'}, {'role': 'assistant', 'content': 'SELECT *\\nFROM items\\nLIMIT 10;'}, {'role': 'user', 'content': 'top 10 records for stores'}, {'role': 'assistant', 'content': 'SELECT *\\nFROM stores\\nLIMIT 10;'}, {'role': 'user', 'content': 'Who are the top artists?'}, {'role': 'assistant', 'content': 'SELECT a.ArtistId, a.Name, COUNT(*) AS TotalTracks\\nFROM Artist a\\nJOIN Album al ON a.ArtistId = al.ArtistId\\nJOIN Track t ON al.AlbumId = t.AlbumId\\nGROUP BY a.ArtistId, a.Name\\nORDER BY TotalTracks DESC\\nLIMIT 10;'}, {'role': 'user', 'content': 'what is the top 10 record for SHIPPING_HISTORY table'}, {'role': 'assistant', 'content': 'SELECT *\\nFROM SHIPPING_HISTORY\\nLIMIT 10;'}, {'role': 'user', 'content': 'What are the top 10 Jazz artists by sales per year?'}, {'role': 'assistant', 'content': \"SELECT a.ArtistId, a.Name, strftime('%Y', i.InvoiceDate) AS Year, SUM(il.Quantity) AS TotalSales\\nFROM Artist a\\nJOIN Album al ON a.ArtistId = al.ArtistId\\nJOIN Track t ON al.AlbumId = t.AlbumId\\nJOIN InvoiceLine il ON t.TrackId = il.TrackId\\nJOIN Invoice i ON il.InvoiceId = i.InvoiceId\\nJOIN Genre g ON t.GenreId = g.GenreId\\nWHERE g.Name = 'Jazz'\\nGROUP BY a.ArtistId, a.Name, Year\\nORDER BY TotalSales DESC\\nLIMIT 10;\"}, {'role': 'user', 'content': 'What are the top 10 jazz artists by sales?'}, {'role': 'assistant', 'content': \"SELECT a.ArtistId, a.Name, SUM(il.Quantity) AS TotalSales\\nFROM Artist a\\nJOIN Album al ON a.ArtistId = al.ArtistId\\nJOIN Track t ON al.AlbumId = t.AlbumId\\nJOIN InvoiceLine il ON t.TrackId = il.TrackId\\nJOIN Genre g ON t.GenreId = g.GenreId\\nWHERE g.Name = 'Jazz'\\nGROUP BY a.ArtistId, a.Name\\nORDER BY TotalSales DESC\\nLIMIT 10;\"}, {'role': 'user', 'content': 'top 10 records for brand_engagement'}, {'role': 'assistant', 'content': 'SELECT *\\nFROM brand_engagement\\nLIMIT 10;'}, {'role': 'user', 'content': 'list the US citizens tops 10 relax tools'}]\n",
            "LLM Response: As there is no table related to \"relax tools\" or any explicit information on citizenship in the provided schema, the query cannot be generated with the given context.\n",
            "Info: None\n",
            "None\n",
            "SQL Prompt: [{'role': 'system', 'content': \"You are a SQLite expert. Please help to generate a SQL query to answer the question. Your response should ONLY be based on the given context and follow the response guidelines and format instructions. \\n===Tables \\nCREATE TABLE [Artist]\\n(\\n    [ArtistId] INTEGER  NOT NULL,\\n    [Name] NVARCHAR(120),\\n    CONSTRAINT [PK_Artist] PRIMARY KEY  ([ArtistId])\\n)\\n\\nCREATE TABLE [Album]\\n(\\n    [AlbumId] INTEGER  NOT NULL,\\n    [Title] NVARCHAR(160)  NOT NULL,\\n    [ArtistId] INTEGER  NOT NULL,\\n    CONSTRAINT [PK_Album] PRIMARY KEY  ([AlbumId]),\\n    FOREIGN KEY ([ArtistId]) REFERENCES [Artist] ([ArtistId]) \\n\\t\\tON DELETE NO ACTION ON UPDATE NO ACTION\\n)\\n\\nCREATE INDEX [IFK_AlbumArtistId] ON [Album] ([ArtistId])\\n\\nCREATE TABLE [Track]\\n(\\n    [TrackId] INTEGER  NOT NULL,\\n    [Name] NVARCHAR(200)  NOT NULL,\\n    [AlbumId] INTEGER,\\n    [MediaTypeId] INTEGER  NOT NULL,\\n    [GenreId] INTEGER,\\n    [Composer] NVARCHAR(220),\\n    [Milliseconds] INTEGER  NOT NULL,\\n    [Bytes] INTEGER,\\n    [UnitPrice] NUMERIC(10,2)  NOT NULL,\\n    CONSTRAINT [PK_Track] PRIMARY KEY  ([TrackId]),\\n    FOREIGN KEY ([AlbumId]) REFERENCES [Album] ([AlbumId]) \\n\\t\\tON DELETE NO ACTION ON UPDATE NO ACTION,\\n    FOREIGN KEY ([GenreId]) REFERENCES [Genre] ([GenreId]) \\n\\t\\tON DELETE NO ACTION ON UPDATE NO ACTION,\\n    FOREIGN KEY ([MediaTypeId]) REFERENCES [MediaType] ([MediaTypeId]) \\n\\t\\tON DELETE NO ACTION ON UPDATE NO ACTION\\n)\\n\\nCREATE TABLE [Playlist]\\n(\\n    [PlaylistId] INTEGER  NOT NULL,\\n    [Name] NVARCHAR(120),\\n    CONSTRAINT [PK_Playlist] PRIMARY KEY  ([PlaylistId])\\n)\\n\\nCREATE TABLE [InvoiceLine]\\n(\\n    [InvoiceLineId] INTEGER  NOT NULL,\\n    [InvoiceId] INTEGER  NOT NULL,\\n    [TrackId] INTEGER  NOT NULL,\\n    [UnitPrice] NUMERIC(10,2)  NOT NULL,\\n    [Quantity] INTEGER  NOT NULL,\\n    CONSTRAINT [PK_InvoiceLine] PRIMARY KEY  ([InvoiceLineId]),\\n    FOREIGN KEY ([InvoiceId]) REFERENCES [Invoice] ([InvoiceId]) \\n\\t\\tON DELETE NO ACTION ON UPDATE NO ACTION,\\n    FOREIGN KEY ([TrackId]) REFERENCES [Track] ([TrackId]) \\n\\t\\tON DELETE NO ACTION ON UPDATE NO ACTION\\n)\\n\\nCREATE TABLE [Genre]\\n(\\n    [GenreId] INTEGER  NOT NULL,\\n    [Name] NVARCHAR(120),\\n    CONSTRAINT [PK_Genre] PRIMARY KEY  ([GenreId])\\n)\\n\\nCREATE TABLE [Customer]\\n(\\n    [CustomerId] INTEGER  NOT NULL,\\n    [FirstName] NVARCHAR(40)  NOT NULL,\\n    [LastName] NVARCHAR(20)  NOT NULL,\\n    [Company] NVARCHAR(80),\\n    [Address] NVARCHAR(70),\\n    [City] NVARCHAR(40),\\n    [State] NVARCHAR(40),\\n    [Country] NVARCHAR(40),\\n    [PostalCode] NVARCHAR(10),\\n    [Phone] NVARCHAR(24),\\n    [Fax] NVARCHAR(24),\\n    [Email] NVARCHAR(60)  NOT NULL,\\n    [SupportRepId] INTEGER,\\n    CONSTRAINT [PK_Customer] PRIMARY KEY  ([CustomerId]),\\n    FOREIGN KEY ([SupportRepId]) REFERENCES [Employee] ([EmployeeId]) \\n\\t\\tON DELETE NO ACTION ON UPDATE NO ACTION\\n)\\n\\nCREATE TABLE [Invoice]\\n(\\n    [InvoiceId] INTEGER  NOT NULL,\\n    [CustomerId] INTEGER  NOT NULL,\\n    [InvoiceDate] DATETIME  NOT NULL,\\n    [BillingAddress] NVARCHAR(70),\\n    [BillingCity] NVARCHAR(40),\\n    [BillingState] NVARCHAR(40),\\n    [BillingCountry] NVARCHAR(40),\\n    [BillingPostalCode] NVARCHAR(10),\\n    [Total] NUMERIC(10,2)  NOT NULL,\\n    CONSTRAINT [PK_Invoice] PRIMARY KEY  ([InvoiceId]),\\n    FOREIGN KEY ([CustomerId]) REFERENCES [Customer] ([CustomerId]) \\n\\t\\tON DELETE NO ACTION ON UPDATE NO ACTION\\n)\\n\\nCREATE TABLE [Employee]\\n(\\n    [EmployeeId] INTEGER  NOT NULL,\\n    [LastName] NVARCHAR(20)  NOT NULL,\\n    [FirstName] NVARCHAR(20)  NOT NULL,\\n    [Title] NVARCHAR(30),\\n    [ReportsTo] INTEGER,\\n    [BirthDate] DATETIME,\\n    [HireDate] DATETIME,\\n    [Address] NVARCHAR(70),\\n    [City] NVARCHAR(40),\\n    [State] NVARCHAR(40),\\n    [Country] NVARCHAR(40),\\n    [PostalCode] NVARCHAR(10),\\n    [Phone] NVARCHAR(24),\\n    [Fax] NVARCHAR(24),\\n    [Email] NVARCHAR(60),\\n    CONSTRAINT [PK_Employee] PRIMARY KEY  ([EmployeeId]),\\n    FOREIGN KEY ([ReportsTo]) REFERENCES [Employee] ([EmployeeId]) \\n\\t\\tON DELETE NO ACTION ON UPDATE NO ACTION\\n)\\n\\n\\n===Additional Context \\n\\nThis is a SQLite database. For dates rememeber to use SQLite syntax.\\n\\n===Response Guidelines \\n1. If the provided context is sufficient, please generate a valid SQL query without any explanations for the question. \\n2. If the provided context is almost sufficient but requires knowledge of a specific string in a particular column, please generate an intermediate SQL query to find the distinct strings in that column. Prepend the query with a comment saying intermediate_sql \\n3. If the provided context is insufficient, please explain why it can't be generated. \\n4. Please use the most relevant table(s). \\n5. If the question has been asked and answered before, please repeat the answer exactly as it was given before. \\n6. Ensure that the output SQL is SQLite-compliant and executable, and free of syntax errors. \\n\"}, {'role': 'user', 'content': 'What are the top 10 artists by sales?'}, {'role': 'assistant', 'content': 'SELECT a.ArtistId, a.Name, SUM(il.Quantity) AS TotalSales\\nFROM Artist a\\nINNER JOIN Album al ON a.ArtistId = al.ArtistId\\nINNER JOIN Track t ON al.AlbumId = t.AlbumId\\nINNER JOIN InvoiceLine il ON t.TrackId = il.TrackId\\nGROUP BY a.ArtistId, a.Name\\nORDER BY TotalSales DESC\\nLIMIT 10;'}, {'role': 'user', 'content': 'What are the top 10 Jazz artists by sales per year?'}, {'role': 'assistant', 'content': \"SELECT a.ArtistId, a.Name, strftime('%Y', i.InvoiceDate) AS Year, SUM(il.Quantity) AS TotalSales\\nFROM Artist a\\nJOIN Album al ON a.ArtistId = al.ArtistId\\nJOIN Track t ON al.AlbumId = t.AlbumId\\nJOIN InvoiceLine il ON t.TrackId = il.TrackId\\nJOIN Invoice i ON il.InvoiceId = i.InvoiceId\\nJOIN Genre g ON t.GenreId = g.GenreId\\nWHERE g.Name = 'Jazz'\\nGROUP BY a.ArtistId, a.Name, Year\\nORDER BY TotalSales DESC\\nLIMIT 10;\"}, {'role': 'user', 'content': 'What are the top 10 jazz artists by sales?'}, {'role': 'assistant', 'content': \"SELECT a.ArtistId, a.Name, SUM(il.Quantity) AS TotalSales\\nFROM Artist a\\nJOIN Album al ON a.ArtistId = al.ArtistId\\nJOIN Track t ON al.AlbumId = t.AlbumId\\nJOIN InvoiceLine il ON t.TrackId = il.TrackId\\nJOIN Genre g ON t.GenreId = g.GenreId\\nWHERE g.Name = 'Jazz'\\nGROUP BY a.ArtistId, a.Name\\nORDER BY TotalSales DESC\\nLIMIT 10;\"}, {'role': 'user', 'content': 'What are the top 11artists by sales?'}, {'role': 'assistant', 'content': 'SELECT a.ArtistId, a.Name, SUM(il.Quantity) AS TotalSales\\nFROM Artist a\\nJOIN Album al ON a.ArtistId = al.ArtistId\\nJOIN Track t ON al.AlbumId = t.AlbumId\\nJOIN InvoiceLine il ON t.TrackId = il.TrackId\\nGROUP BY a.ArtistId, a.Name\\nORDER BY TotalSales DESC\\nLIMIT 11;'}, {'role': 'user', 'content': 'What are the top 10 albums by sales?'}, {'role': 'assistant', 'content': 'SELECT a.AlbumId, a.Title, SUM(il.Quantity) AS TotalSales\\nFROM Album a\\nINNER JOIN Track t ON a.AlbumId = t.AlbumId\\nINNER JOIN InvoiceLine il ON t.TrackId = il.TrackId\\nGROUP BY a.AlbumId, a.Title\\nORDER BY TotalSales DESC\\nLIMIT 10;'}, {'role': 'user', 'content': 'What are the top 7 artists by sales order by sales?'}, {'role': 'assistant', 'content': 'SELECT a.ArtistId, a.Name, SUM(il.Quantity) AS TotalSales\\nFROM Artist a\\nINNER JOIN Album al ON a.ArtistId = al.ArtistId\\nINNER JOIN Track t ON al.AlbumId = t.AlbumId\\nINNER JOIN InvoiceLine il ON t.TrackId = il.TrackId\\nGROUP BY a.ArtistId, a.Name\\nORDER BY TotalSales DESC\\nLIMIT 7;'}, {'role': 'user', 'content': 'What are the top 5 artists by sales?'}, {'role': 'assistant', 'content': 'SELECT a.ArtistId, a.Name, SUM(il.Quantity) AS TotalSales\\nFROM Artist a\\nJOIN Album al ON a.ArtistId = al.ArtistId\\nJOIN Track t ON al.AlbumId = t.AlbumId\\nJOIN InvoiceLine il ON t.TrackId = il.TrackId\\nGROUP BY a.ArtistId, a.Name\\nORDER BY TotalSales DESC\\nLIMIT 5;'}, {'role': 'user', 'content': 'What are the top 7 artists based on sales?'}, {'role': 'assistant', 'content': 'SELECT a.ArtistId, a.Name, SUM(il.Quantity) AS TotalSales\\nFROM Artist a\\nJOIN Album al ON a.ArtistId = al.ArtistId\\nJOIN Track t ON al.AlbumId = t.AlbumId\\nJOIN InvoiceLine il ON t.TrackId = il.TrackId\\nGROUP BY a.ArtistId, a.Name\\nORDER BY TotalSales DESC\\nLIMIT 7;'}, {'role': 'user', 'content': 'Whath are the top 10 artists.'}, {'role': 'assistant', 'content': 'SELECT *\\nFROM Artist\\nORDER BY ArtistId\\nLIMIT 10;'}, {'role': 'user', 'content': 'What are the top 10 Electronica/Dance artists by sales?'}, {'role': 'assistant', 'content': \"SELECT a.ArtistId, a.Name, SUM(il.Quantity) AS TotalSales\\nFROM Artist a\\nJOIN Album al ON a.ArtistId = al.ArtistId\\nJOIN Track t ON al.AlbumId = t.AlbumId\\nJOIN InvoiceLine il ON t.TrackId = il.TrackId\\nJOIN Genre g ON t.GenreId = g.GenreId\\nWHERE g.Name = 'Electronica/Dance'\\nGROUP BY a.ArtistId, a.Name\\nORDER BY TotalSales DESC\\nLIMIT 10;\"}, {'role': 'user', 'content': 'What are the top 10 artists by sales?'}]\n",
            "LLM Response: SELECT a.ArtistId, a.Name, SUM(il.Quantity) AS TotalSales\n",
            "FROM Artist a\n",
            "JOIN Album al ON a.ArtistId = al.ArtistId\n",
            "JOIN Track t ON al.AlbumId = t.AlbumId\n",
            "JOIN InvoiceLine il ON t.TrackId = il.TrackId\n",
            "GROUP BY a.ArtistId, a.Name\n",
            "ORDER BY TotalSales DESC\n",
            "LIMIT 10;\n",
            "Extracted SQL: SELECT a.ArtistId, a.Name, SUM(il.Quantity) AS TotalSales\n",
            "FROM Artist a\n",
            "JOIN Album al ON a.ArtistId = al.ArtistId\n",
            "JOIN Track t ON al.AlbumId = t.AlbumId\n",
            "JOIN InvoiceLine il ON t.TrackId = il.TrackId\n",
            "GROUP BY a.ArtistId, a.Name\n",
            "ORDER BY TotalSales DESC\n",
            "LIMIT 10;\n"
          ]
        }
      ],
      "source": [
        "from vanna.flask import VannaFlaskApp\n",
        "VannaFlaskApp(vn).run()"
      ]
    },
    {
      "cell_type": "markdown",
      "metadata": {
        "id": "N_Du32jYR7Lz"
      },
      "source": [
        "## Here's what you'll get\n",
        "![vanna-flask](https://vanna.ai/blog/img/vanna-flask.gif)"
      ]
    },
    {
      "cell_type": "markdown",
      "metadata": {
        "id": "E-jgpJ7CR7Lz"
      },
      "source": []
    }
  ],
  "metadata": {
    "language_info": {
      "name": "python"
    },
    "colab": {
      "provenance": [],
      "include_colab_link": true
    },
    "kernelspec": {
      "name": "python3",
      "display_name": "Python 3"
    }
  },
  "nbformat": 4,
  "nbformat_minor": 0
}